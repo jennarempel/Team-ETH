{
  "nbformat": 4,
  "nbformat_minor": 0,
  "metadata": {
    "colab": {
      "provenance": []
    },
    "kernelspec": {
      "name": "python3",
      "display_name": "Python 3"
    },
    "language_info": {
      "name": "python"
    }
  },
  "cells": [
    {
      "cell_type": "markdown",
      "source": [
        "RUN Dependencies "
      ],
      "metadata": {
        "id": "p7gaIblTQNSY"
      }
    },
    {
      "cell_type": "code",
      "execution_count": 1,
      "metadata": {
        "id": "kq3_K3ClQCpL"
      },
      "outputs": [],
      "source": [
        "import pandas as pd\n",
        "import numpy as np \n",
        "from sklearn.linear_model import LinearRegression\n",
        "import matplotlib.pyplot as plt"
      ]
    },
    {
      "cell_type": "markdown",
      "source": [
        "## Granger Setup\n"
      ],
      "metadata": {
        "id": "lcZvIOBZ1MgS"
      }
    },
    {
      "cell_type": "code",
      "execution_count": 1,
      "metadata": {
        "id": "kVTDzTExrbwk"
      },
      "outputs": [],
      "source": [
        "from statsmodels.tsa.stattools import grangercausalitytests"
      ]
    },
    {
      "cell_type": "code",
      "source": [
        "df = pd.read_csv('/content/ ETH.csv')"
      ],
      "metadata": {
        "id": "3RRV73oiruNB",
        "colab": {
          "base_uri": "https://localhost:8080/",
          "height": 169
        },
        "outputId": "af634298-6a3d-4f0f-cdf6-b66f0796bc36"
      },
      "execution_count": 2,
      "outputs": [
        {
          "output_type": "error",
          "ename": "NameError",
          "evalue": "ignored",
          "traceback": [
            "\u001b[0;31m---------------------------------------------------------------------------\u001b[0m",
            "\u001b[0;31mNameError\u001b[0m                                 Traceback (most recent call last)",
            "\u001b[0;32m<ipython-input-2-7688dfab8b5b>\u001b[0m in \u001b[0;36m<module>\u001b[0;34m\u001b[0m\n\u001b[0;32m----> 1\u001b[0;31m \u001b[0mdf\u001b[0m \u001b[0;34m=\u001b[0m \u001b[0mpd\u001b[0m\u001b[0;34m.\u001b[0m\u001b[0mread_csv\u001b[0m\u001b[0;34m(\u001b[0m\u001b[0;34m'/content/ ETH.csv'\u001b[0m\u001b[0;34m)\u001b[0m\u001b[0;34m\u001b[0m\u001b[0;34m\u001b[0m\u001b[0m\n\u001b[0m",
            "\u001b[0;31mNameError\u001b[0m: name 'pd' is not defined"
          ]
        }
      ]
    },
    {
      "cell_type": "code",
      "source": [
        "df"
      ],
      "metadata": {
        "id": "aCSkWOgvERb8"
      },
      "execution_count": null,
      "outputs": []
    },
    {
      "cell_type": "markdown",
      "source": [
        "## Perform Granger Test \n"
      ],
      "metadata": {
        "id": "bQGXHB_vrypp"
      }
    },
    {
      "cell_type": "code",
      "source": [
        "df.columns"
      ],
      "metadata": {
        "colab": {
          "base_uri": "https://localhost:8080/"
        },
        "id": "m-sTAi-vE0S_",
        "outputId": "1867494b-27e6-4495-8e39-46f6f5c451ae"
      },
      "execution_count": null,
      "outputs": [
        {
          "output_type": "execute_result",
          "data": {
            "text/plain": [
              "Index(['Date', 'T5YIE', 'T10YIE', 'T5YIFR', 'Response '], dtype='object')"
            ]
          },
          "metadata": {},
          "execution_count": 12
        }
      ]
    },
    {
      "cell_type": "code",
      "source": [
        "# ETH\n",
        "inflation=['T5YIE', 'T10YIE', 'T5YIFR']\n",
        "for element in inflation: \n",
        "  result=grangercausalitytests(df[['Response ', element]], maxlag=[5])\n",
        "  print(inflation, 'response', result)"
      ],
      "metadata": {
        "colab": {
          "base_uri": "https://localhost:8080/"
        },
        "id": "OihkRU35ryKU",
        "outputId": "effb787a-d0fa-4fb5-c5e5-b66451650858"
      },
      "execution_count": null,
      "outputs": [
        {
          "output_type": "stream",
          "name": "stdout",
          "text": [
            "\n",
            "Granger Causality\n",
            "number of lags (no zero) 5\n",
            "ssr based F test:         F=1.1805  , p=0.3162  , df_denom=2582, df_num=5\n",
            "ssr based chi2 test:   chi2=5.9274  , p=0.3133  , df=5\n",
            "likelihood ratio test: chi2=5.9206  , p=0.3140  , df=5\n",
            "parameter F test:         F=1.1805  , p=0.3162  , df_denom=2582, df_num=5\n",
            "['T5YIE', 'T10YIE', 'T5YIFR'] response {5: ({'ssr_ftest': (1.1804510039707328, 0.3161767771895262, 2582.0, 5), 'ssr_chi2test': (5.927400180666363, 0.3133474304795592, 5), 'lrtest': (5.920635695130841, 0.314018185597979, 5), 'params_ftest': (1.180451003970782, 0.3161767771895262, 2582.0, 5.0)}, [<statsmodels.regression.linear_model.RegressionResultsWrapper object at 0x7f4f067a6e50>, <statsmodels.regression.linear_model.RegressionResultsWrapper object at 0x7f4f068e98d0>, array([[0., 0., 0., 0., 0., 1., 0., 0., 0., 0., 0.],\n",
            "       [0., 0., 0., 0., 0., 0., 1., 0., 0., 0., 0.],\n",
            "       [0., 0., 0., 0., 0., 0., 0., 1., 0., 0., 0.],\n",
            "       [0., 0., 0., 0., 0., 0., 0., 0., 1., 0., 0.],\n",
            "       [0., 0., 0., 0., 0., 0., 0., 0., 0., 1., 0.]])])}\n",
            "\n",
            "Granger Causality\n",
            "number of lags (no zero) 5\n",
            "ssr based F test:         F=1.3749  , p=0.2305  , df_denom=2582, df_num=5\n",
            "ssr based chi2 test:   chi2=6.9039  , p=0.2279  , df=5\n",
            "likelihood ratio test: chi2=6.8947  , p=0.2286  , df=5\n",
            "parameter F test:         F=1.3749  , p=0.2305  , df_denom=2582, df_num=5\n",
            "['T5YIE', 'T10YIE', 'T5YIFR'] response {5: ({'ssr_ftest': (1.3749223536415056, 0.2305309624345012, 2582.0, 5), 'ssr_chi2test': (6.903899424849776, 0.22788610798994158, 5), 'lrtest': (6.894724840949493, 0.22858823771134465, 5), 'params_ftest': (1.3749223536416701, 0.2305309624344473, 2582.0, 5.0)}, [<statsmodels.regression.linear_model.RegressionResultsWrapper object at 0x7f4f068e9a50>, <statsmodels.regression.linear_model.RegressionResultsWrapper object at 0x7f4f068e9890>, array([[0., 0., 0., 0., 0., 1., 0., 0., 0., 0., 0.],\n",
            "       [0., 0., 0., 0., 0., 0., 1., 0., 0., 0., 0.],\n",
            "       [0., 0., 0., 0., 0., 0., 0., 1., 0., 0., 0.],\n",
            "       [0., 0., 0., 0., 0., 0., 0., 0., 1., 0., 0.],\n",
            "       [0., 0., 0., 0., 0., 0., 0., 0., 0., 1., 0.]])])}\n",
            "\n",
            "Granger Causality\n",
            "number of lags (no zero) 5\n",
            "ssr based F test:         F=1.6301  , p=0.1486  , df_denom=2582, df_num=5\n",
            "ssr based chi2 test:   chi2=8.1851  , p=0.1463  , df=5\n",
            "likelihood ratio test: chi2=8.1722  , p=0.1470  , df=5\n",
            "parameter F test:         F=1.6301  , p=0.1486  , df_denom=2582, df_num=5\n",
            "['T5YIE', 'T10YIE', 'T5YIFR'] response {5: ({'ssr_ftest': (1.6300694170911194, 0.1485690035219976, 2582.0, 5), 'ssr_chi2test': (8.185069710529188, 0.1463267019997812, 5), 'lrtest': (8.172178327198708, 0.14699835242269915, 5), 'params_ftest': (1.6300694170911914, 0.14856900352198163, 2582.0, 5.0)}, [<statsmodels.regression.linear_model.RegressionResultsWrapper object at 0x7f4f067a6290>, <statsmodels.regression.linear_model.RegressionResultsWrapper object at 0x7f4f068e94d0>, array([[0., 0., 0., 0., 0., 1., 0., 0., 0., 0., 0.],\n",
            "       [0., 0., 0., 0., 0., 0., 1., 0., 0., 0., 0.],\n",
            "       [0., 0., 0., 0., 0., 0., 0., 1., 0., 0., 0.],\n",
            "       [0., 0., 0., 0., 0., 0., 0., 0., 1., 0., 0.],\n",
            "       [0., 0., 0., 0., 0., 0., 0., 0., 0., 1., 0.]])])}\n"
          ]
        }
      ]
    },
    {
      "cell_type": "code",
      "source": [
        "#Gold \n",
        "df_gold = pd.read_csv('/content/Gold.csv')\n",
        "\n"
      ],
      "metadata": {
        "id": "eQ92t77_FOfE"
      },
      "execution_count": null,
      "outputs": []
    },
    {
      "cell_type": "code",
      "source": [
        "df_gold"
      ],
      "metadata": {
        "colab": {
          "base_uri": "https://localhost:8080/",
          "height": 424
        },
        "id": "49tzem5CJePa",
        "outputId": "f43c480a-917c-47bb-b802-11cbb1d0f7e3"
      },
      "execution_count": null,
      "outputs": [
        {
          "output_type": "execute_result",
          "data": {
            "text/plain": [
              "           Date           T5YIE  T10YIE    T5YIFR  Response \n",
              "0      1/3/2003  -0.01538461538   -0.01 -0.010101   0.015027\n",
              "1      1/4/2003      0.01171875    0.00 -0.002551  -0.003883\n",
              "2      1/5/2003               0    0.00  0.000000   0.003830\n",
              "3      1/6/2003   0.01158301158    0.00 -0.002558   0.000068\n",
              "4      1/7/2003  -0.02290076336   -0.01  0.005128  -0.011388\n",
              "...         ...             ...     ...       ...        ...\n",
              "7195  9/15/2022  -0.01908396947   -0.01 -0.004348  -0.018977\n",
              "7196  9/16/2022  -0.03112840467   -0.02 -0.008734   0.005976\n",
              "7197  9/17/2022  -0.01004016064   -0.01 -0.006608  -0.001234\n",
              "7198  9/18/2022  -0.01014198783   -0.01 -0.006652   0.001571\n",
              "7199  9/19/2022               0    0.00  0.000000   0.000131\n",
              "\n",
              "[7200 rows x 5 columns]"
            ],
            "text/html": [
              "\n",
              "  <div id=\"df-7c7dc30f-109e-4ce7-a4da-549fa059ccfe\">\n",
              "    <div class=\"colab-df-container\">\n",
              "      <div>\n",
              "<style scoped>\n",
              "    .dataframe tbody tr th:only-of-type {\n",
              "        vertical-align: middle;\n",
              "    }\n",
              "\n",
              "    .dataframe tbody tr th {\n",
              "        vertical-align: top;\n",
              "    }\n",
              "\n",
              "    .dataframe thead th {\n",
              "        text-align: right;\n",
              "    }\n",
              "</style>\n",
              "<table border=\"1\" class=\"dataframe\">\n",
              "  <thead>\n",
              "    <tr style=\"text-align: right;\">\n",
              "      <th></th>\n",
              "      <th>Date</th>\n",
              "      <th>T5YIE</th>\n",
              "      <th>T10YIE</th>\n",
              "      <th>T5YIFR</th>\n",
              "      <th>Response</th>\n",
              "    </tr>\n",
              "  </thead>\n",
              "  <tbody>\n",
              "    <tr>\n",
              "      <th>0</th>\n",
              "      <td>1/3/2003</td>\n",
              "      <td>-0.01538461538</td>\n",
              "      <td>-0.01</td>\n",
              "      <td>-0.010101</td>\n",
              "      <td>0.015027</td>\n",
              "    </tr>\n",
              "    <tr>\n",
              "      <th>1</th>\n",
              "      <td>1/4/2003</td>\n",
              "      <td>0.01171875</td>\n",
              "      <td>0.00</td>\n",
              "      <td>-0.002551</td>\n",
              "      <td>-0.003883</td>\n",
              "    </tr>\n",
              "    <tr>\n",
              "      <th>2</th>\n",
              "      <td>1/5/2003</td>\n",
              "      <td>0</td>\n",
              "      <td>0.00</td>\n",
              "      <td>0.000000</td>\n",
              "      <td>0.003830</td>\n",
              "    </tr>\n",
              "    <tr>\n",
              "      <th>3</th>\n",
              "      <td>1/6/2003</td>\n",
              "      <td>0.01158301158</td>\n",
              "      <td>0.00</td>\n",
              "      <td>-0.002558</td>\n",
              "      <td>0.000068</td>\n",
              "    </tr>\n",
              "    <tr>\n",
              "      <th>4</th>\n",
              "      <td>1/7/2003</td>\n",
              "      <td>-0.02290076336</td>\n",
              "      <td>-0.01</td>\n",
              "      <td>0.005128</td>\n",
              "      <td>-0.011388</td>\n",
              "    </tr>\n",
              "    <tr>\n",
              "      <th>...</th>\n",
              "      <td>...</td>\n",
              "      <td>...</td>\n",
              "      <td>...</td>\n",
              "      <td>...</td>\n",
              "      <td>...</td>\n",
              "    </tr>\n",
              "    <tr>\n",
              "      <th>7195</th>\n",
              "      <td>9/15/2022</td>\n",
              "      <td>-0.01908396947</td>\n",
              "      <td>-0.01</td>\n",
              "      <td>-0.004348</td>\n",
              "      <td>-0.018977</td>\n",
              "    </tr>\n",
              "    <tr>\n",
              "      <th>7196</th>\n",
              "      <td>9/16/2022</td>\n",
              "      <td>-0.03112840467</td>\n",
              "      <td>-0.02</td>\n",
              "      <td>-0.008734</td>\n",
              "      <td>0.005976</td>\n",
              "    </tr>\n",
              "    <tr>\n",
              "      <th>7197</th>\n",
              "      <td>9/17/2022</td>\n",
              "      <td>-0.01004016064</td>\n",
              "      <td>-0.01</td>\n",
              "      <td>-0.006608</td>\n",
              "      <td>-0.001234</td>\n",
              "    </tr>\n",
              "    <tr>\n",
              "      <th>7198</th>\n",
              "      <td>9/18/2022</td>\n",
              "      <td>-0.01014198783</td>\n",
              "      <td>-0.01</td>\n",
              "      <td>-0.006652</td>\n",
              "      <td>0.001571</td>\n",
              "    </tr>\n",
              "    <tr>\n",
              "      <th>7199</th>\n",
              "      <td>9/19/2022</td>\n",
              "      <td>0</td>\n",
              "      <td>0.00</td>\n",
              "      <td>0.000000</td>\n",
              "      <td>0.000131</td>\n",
              "    </tr>\n",
              "  </tbody>\n",
              "</table>\n",
              "<p>7200 rows × 5 columns</p>\n",
              "</div>\n",
              "      <button class=\"colab-df-convert\" onclick=\"convertToInteractive('df-7c7dc30f-109e-4ce7-a4da-549fa059ccfe')\"\n",
              "              title=\"Convert this dataframe to an interactive table.\"\n",
              "              style=\"display:none;\">\n",
              "        \n",
              "  <svg xmlns=\"http://www.w3.org/2000/svg\" height=\"24px\"viewBox=\"0 0 24 24\"\n",
              "       width=\"24px\">\n",
              "    <path d=\"M0 0h24v24H0V0z\" fill=\"none\"/>\n",
              "    <path d=\"M18.56 5.44l.94 2.06.94-2.06 2.06-.94-2.06-.94-.94-2.06-.94 2.06-2.06.94zm-11 1L8.5 8.5l.94-2.06 2.06-.94-2.06-.94L8.5 2.5l-.94 2.06-2.06.94zm10 10l.94 2.06.94-2.06 2.06-.94-2.06-.94-.94-2.06-.94 2.06-2.06.94z\"/><path d=\"M17.41 7.96l-1.37-1.37c-.4-.4-.92-.59-1.43-.59-.52 0-1.04.2-1.43.59L10.3 9.45l-7.72 7.72c-.78.78-.78 2.05 0 2.83L4 21.41c.39.39.9.59 1.41.59.51 0 1.02-.2 1.41-.59l7.78-7.78 2.81-2.81c.8-.78.8-2.07 0-2.86zM5.41 20L4 18.59l7.72-7.72 1.47 1.35L5.41 20z\"/>\n",
              "  </svg>\n",
              "      </button>\n",
              "      \n",
              "  <style>\n",
              "    .colab-df-container {\n",
              "      display:flex;\n",
              "      flex-wrap:wrap;\n",
              "      gap: 12px;\n",
              "    }\n",
              "\n",
              "    .colab-df-convert {\n",
              "      background-color: #E8F0FE;\n",
              "      border: none;\n",
              "      border-radius: 50%;\n",
              "      cursor: pointer;\n",
              "      display: none;\n",
              "      fill: #1967D2;\n",
              "      height: 32px;\n",
              "      padding: 0 0 0 0;\n",
              "      width: 32px;\n",
              "    }\n",
              "\n",
              "    .colab-df-convert:hover {\n",
              "      background-color: #E2EBFA;\n",
              "      box-shadow: 0px 1px 2px rgba(60, 64, 67, 0.3), 0px 1px 3px 1px rgba(60, 64, 67, 0.15);\n",
              "      fill: #174EA6;\n",
              "    }\n",
              "\n",
              "    [theme=dark] .colab-df-convert {\n",
              "      background-color: #3B4455;\n",
              "      fill: #D2E3FC;\n",
              "    }\n",
              "\n",
              "    [theme=dark] .colab-df-convert:hover {\n",
              "      background-color: #434B5C;\n",
              "      box-shadow: 0px 1px 3px 1px rgba(0, 0, 0, 0.15);\n",
              "      filter: drop-shadow(0px 1px 2px rgba(0, 0, 0, 0.3));\n",
              "      fill: #FFFFFF;\n",
              "    }\n",
              "  </style>\n",
              "\n",
              "      <script>\n",
              "        const buttonEl =\n",
              "          document.querySelector('#df-7c7dc30f-109e-4ce7-a4da-549fa059ccfe button.colab-df-convert');\n",
              "        buttonEl.style.display =\n",
              "          google.colab.kernel.accessAllowed ? 'block' : 'none';\n",
              "\n",
              "        async function convertToInteractive(key) {\n",
              "          const element = document.querySelector('#df-7c7dc30f-109e-4ce7-a4da-549fa059ccfe');\n",
              "          const dataTable =\n",
              "            await google.colab.kernel.invokeFunction('convertToInteractive',\n",
              "                                                     [key], {});\n",
              "          if (!dataTable) return;\n",
              "\n",
              "          const docLinkHtml = 'Like what you see? Visit the ' +\n",
              "            '<a target=\"_blank\" href=https://colab.research.google.com/notebooks/data_table.ipynb>data table notebook</a>'\n",
              "            + ' to learn more about interactive tables.';\n",
              "          element.innerHTML = '';\n",
              "          dataTable['output_type'] = 'display_data';\n",
              "          await google.colab.output.renderOutput(dataTable, element);\n",
              "          const docLink = document.createElement('div');\n",
              "          docLink.innerHTML = docLinkHtml;\n",
              "          element.appendChild(docLink);\n",
              "        }\n",
              "      </script>\n",
              "    </div>\n",
              "  </div>\n",
              "  "
            ]
          },
          "metadata": {},
          "execution_count": 22
        }
      ]
    },
    {
      "cell_type": "code",
      "source": [
        "# GOLD\n",
        "inflation=['T5YIE', 'T10YIE', 'T5YIFR']\n",
        "for element in inflation: \n",
        "  result=grangercausalitytests(df_gold[['Response ', element]], maxlag=[5])\n",
        "  print(inflation, 'response', result)"
      ],
      "metadata": {
        "colab": {
          "base_uri": "https://localhost:8080/"
        },
        "id": "0CBmwDBQF9zk",
        "outputId": "9bbef611-f4c8-4c3c-b004-d52da36e8ce1"
      },
      "execution_count": null,
      "outputs": [
        {
          "output_type": "stream",
          "name": "stdout",
          "text": [
            "\n",
            "Granger Causality\n",
            "number of lags (no zero) 5\n",
            "ssr based F test:         F=17.5949 , p=0.0000  , df_denom=7184, df_num=5\n",
            "ssr based chi2 test:   chi2=88.1093 , p=0.0000  , df=5\n",
            "likelihood ratio test: chi2=87.5741 , p=0.0000  , df=5\n",
            "parameter F test:         F=17.5949 , p=0.0000  , df_denom=7184, df_num=5\n",
            "['T5YIE', 'T10YIE', 'T5YIFR'] response {5: ({'ssr_ftest': (17.594913631820692, 2.295938548368447e-17, 7184.0, 5), 'ssr_chi2test': (88.10927309364551, 1.6763593914671895e-17, 5), 'lrtest': (87.57414857427648, 2.1711443542335234e-17, 5), 'params_ftest': (17.594913631820845, 2.295938548367566e-17, 7184.0, 5.0)}, [<statsmodels.regression.linear_model.RegressionResultsWrapper object at 0x7fccd09d7390>, <statsmodels.regression.linear_model.RegressionResultsWrapper object at 0x7fccd0958350>, array([[0., 0., 0., 0., 0., 1., 0., 0., 0., 0., 0.],\n",
            "       [0., 0., 0., 0., 0., 0., 1., 0., 0., 0., 0.],\n",
            "       [0., 0., 0., 0., 0., 0., 0., 1., 0., 0., 0.],\n",
            "       [0., 0., 0., 0., 0., 0., 0., 0., 1., 0., 0.],\n",
            "       [0., 0., 0., 0., 0., 0., 0., 0., 0., 1., 0.]])])}\n",
            "\n",
            "Granger Causality\n",
            "number of lags (no zero) 5\n",
            "ssr based F test:         F=4.9777  , p=0.0001  , df_denom=7184, df_num=5\n",
            "ssr based chi2 test:   chi2=24.9266 , p=0.0001  , df=5\n",
            "likelihood ratio test: chi2=24.8835 , p=0.0001  , df=5\n",
            "parameter F test:         F=4.9777  , p=0.0001  , df_denom=7184, df_num=5\n",
            "['T5YIE', 'T10YIE', 'T5YIFR'] response {5: ({'ssr_ftest': (4.977692752710496, 0.000148897072130422, 7184.0, 5), 'ssr_chi2test': (24.926572491475515, 0.00014395664490144224, 5), 'lrtest': (24.883493777830154, 0.00014673910795162212, 5), 'params_ftest': (4.977692752710399, 0.00014889707213053572, 7184.0, 5.0)}, [<statsmodels.regression.linear_model.RegressionResultsWrapper object at 0x7fccd0958890>, <statsmodels.regression.linear_model.RegressionResultsWrapper object at 0x7fccd0958910>, array([[0., 0., 0., 0., 0., 1., 0., 0., 0., 0., 0.],\n",
            "       [0., 0., 0., 0., 0., 0., 1., 0., 0., 0., 0.],\n",
            "       [0., 0., 0., 0., 0., 0., 0., 1., 0., 0., 0.],\n",
            "       [0., 0., 0., 0., 0., 0., 0., 0., 1., 0., 0.],\n",
            "       [0., 0., 0., 0., 0., 0., 0., 0., 0., 1., 0.]])])}\n",
            "\n",
            "Granger Causality\n",
            "number of lags (no zero) 5\n",
            "ssr based F test:         F=2.2405  , p=0.0476  , df_denom=7184, df_num=5\n",
            "ssr based chi2 test:   chi2=11.2197 , p=0.0472  , df=5\n",
            "likelihood ratio test: chi2=11.2109 , p=0.0474  , df=5\n",
            "parameter F test:         F=2.2405  , p=0.0476  , df_denom=7184, df_num=5\n",
            "['T5YIE', 'T10YIE', 'T5YIFR'] response {5: ({'ssr_ftest': (2.2405042420530608, 0.04762697783161504, 7184.0, 5), 'ssr_chi2test': (11.219674291183026, 0.04719431522294606, 5), 'lrtest': (11.210935557304765, 0.04735448538015715, 5), 'params_ftest': (2.2405042420530563, 0.04762697783161504, 7184.0, 5.0)}, [<statsmodels.regression.linear_model.RegressionResultsWrapper object at 0x7fccd33a5950>, <statsmodels.regression.linear_model.RegressionResultsWrapper object at 0x7fccd0958a10>, array([[0., 0., 0., 0., 0., 1., 0., 0., 0., 0., 0.],\n",
            "       [0., 0., 0., 0., 0., 0., 1., 0., 0., 0., 0.],\n",
            "       [0., 0., 0., 0., 0., 0., 0., 1., 0., 0., 0.],\n",
            "       [0., 0., 0., 0., 0., 0., 0., 0., 1., 0., 0.],\n",
            "       [0., 0., 0., 0., 0., 0., 0., 0., 0., 1., 0.]])])}\n"
          ]
        }
      ]
    },
    {
      "cell_type": "code",
      "source": [
        "#SPDR\n",
        "df_SPDR = pd.read_csv('/content/SPDR.csv')\n",
        "inflation=['T5YIE', 'T10YIE', 'T5YIFR']\n",
        "for element in inflation: \n",
        "  result=grangercausalitytests(df_SPDR[['Response ', element]], maxlag=[5])\n"
      ],
      "metadata": {
        "id": "xKFJUeHnFSJE",
        "colab": {
          "base_uri": "https://localhost:8080/"
        },
        "outputId": "cf46938b-ea52-4347-fe83-bbb356fecafd"
      },
      "execution_count": null,
      "outputs": [
        {
          "output_type": "stream",
          "name": "stdout",
          "text": [
            "\n",
            "Granger Causality\n",
            "number of lags (no zero) 5\n",
            "ssr based F test:         F=19.8040 , p=0.0000  , df_denom=6498, df_num=5\n",
            "ssr based chi2 test:   chi2=99.1877 , p=0.0000  , df=5\n",
            "likelihood ratio test: chi2=98.4396 , p=0.0000  , df=5\n",
            "parameter F test:         F=19.8040 , p=0.0000  , df_denom=6498, df_num=5\n",
            "\n",
            "Granger Causality\n",
            "number of lags (no zero) 5\n",
            "ssr based F test:         F=6.4175  , p=0.0000  , df_denom=6498, df_num=5\n",
            "ssr based chi2 test:   chi2=32.1419 , p=0.0000  , df=5\n",
            "likelihood ratio test: chi2=32.0628 , p=0.0000  , df=5\n",
            "parameter F test:         F=6.4175  , p=0.0000  , df_denom=6498, df_num=5\n",
            "\n",
            "Granger Causality\n",
            "number of lags (no zero) 5\n",
            "ssr based F test:         F=3.1129  , p=0.0083  , df_denom=6498, df_num=5\n",
            "ssr based chi2 test:   chi2=15.5909 , p=0.0081  , df=5\n",
            "likelihood ratio test: chi2=15.5722 , p=0.0082  , df=5\n",
            "parameter F test:         F=3.1129  , p=0.0083  , df_denom=6498, df_num=5\n"
          ]
        }
      ]
    },
    {
      "cell_type": "code",
      "source": [
        "#Crypto \n",
        "df_c = pd.read_csv('/content/Crypto.csv')\n",
        "inflation=['T5YIE', 'T10YIE', 'T5YIFR']\n",
        "for element in inflation: \n",
        "  result=grangercausalitytests(df_c[['Response ', element]], maxlag=[5])"
      ],
      "metadata": {
        "id": "tggQOr2tFrC4",
        "colab": {
          "base_uri": "https://localhost:8080/"
        },
        "outputId": "b5047965-5790-467b-b9b2-e937a25881e3"
      },
      "execution_count": null,
      "outputs": [
        {
          "output_type": "stream",
          "name": "stdout",
          "text": [
            "\n",
            "Granger Causality\n",
            "number of lags (no zero) 5\n",
            "ssr based F test:         F=0.5912  , p=0.7068  , df_denom=1630, df_num=5\n",
            "ssr based chi2 test:   chi2=2.9759  , p=0.7037  , df=5\n",
            "likelihood ratio test: chi2=2.9732  , p=0.7041  , df=5\n",
            "parameter F test:         F=0.5912  , p=0.7068  , df_denom=1630, df_num=5\n",
            "\n",
            "Granger Causality\n",
            "number of lags (no zero) 5\n",
            "ssr based F test:         F=1.0146  , p=0.4074  , df_denom=1630, df_num=5\n",
            "ssr based chi2 test:   chi2=5.1073  , p=0.4029  , df=5\n",
            "likelihood ratio test: chi2=5.0994  , p=0.4039  , df=5\n",
            "parameter F test:         F=1.0146  , p=0.4074  , df_denom=1630, df_num=5\n",
            "\n",
            "Granger Causality\n",
            "number of lags (no zero) 5\n",
            "ssr based F test:         F=1.4072  , p=0.2186  , df_denom=1630, df_num=5\n",
            "ssr based chi2 test:   chi2=7.0835  , p=0.2145  , df=5\n",
            "likelihood ratio test: chi2=7.0683  , p=0.2156  , df=5\n",
            "parameter F test:         F=1.4072  , p=0.2186  , df_denom=1630, df_num=5\n"
          ]
        }
      ]
    },
    {
      "cell_type": "markdown",
      "source": [
        "## Dickey-Fuller Test\n"
      ],
      "metadata": {
        "id": "ehifWzxvyJWy"
      }
    },
    {
      "cell_type": "code",
      "source": [
        "from statsmodels.tsa.stattools import adfuller"
      ],
      "metadata": {
        "id": "biN90_eSyl9Z"
      },
      "execution_count": null,
      "outputs": []
    },
    {
      "cell_type": "code",
      "source": [
        "df = pd.read_csv('/content/DF_Data.csv')\n"
      ],
      "metadata": {
        "id": "GSnlOISfyN8n"
      },
      "execution_count": null,
      "outputs": []
    },
    {
      "cell_type": "code",
      "source": [
        "df.columns"
      ],
      "metadata": {
        "id": "82fMg6EFEI_2",
        "outputId": "98df2b63-97fc-4f70-ded3-482bfc3eb376",
        "colab": {
          "base_uri": "https://localhost:8080/"
        }
      },
      "execution_count": null,
      "outputs": [
        {
          "output_type": "execute_result",
          "data": {
            "text/plain": [
              "Index(['SPDR', 'Crypto', 'Gold', 'ETH', 'T5YIE', 'T10YIE', 'T5YIFR'], dtype='object')"
            ]
          },
          "metadata": {},
          "execution_count": 14
        }
      ]
    },
    {
      "cell_type": "code",
      "source": [
        "df"
      ],
      "metadata": {
        "colab": {
          "base_uri": "https://localhost:8080/",
          "height": 424
        },
        "id": "oe67P6nHd9Sm",
        "outputId": "c3f02fe0-381b-49a5-d65d-2c90756be462"
      },
      "execution_count": null,
      "outputs": [
        {
          "output_type": "execute_result",
          "data": {
            "text/plain": [
              "            SPDR    Crypto     Gold       ETH  T5YIE  T10YIE  T5YIFR\n",
              "0      44.380001  1000.000   175.00  0.714876  1.300   1.640   1.980\n",
              "1      44.779999   973.640   174.00  0.729347  1.280   1.620   1.960\n",
              "2      44.865000  1003.075   174.40  0.707703  1.295   1.625   1.955\n",
              "3      44.850001   947.280   175.20  1.057670  1.295   1.625   1.955\n",
              "4      44.950001  1058.870   173.50  1.237670  1.310   1.630   1.950\n",
              "...          ...       ...      ...       ...    ...     ...     ...\n",
              "17427        NaN       NaN  1675.84       NaN    NaN     NaN     NaN\n",
              "17428        NaN       NaN  1675.96       NaN    NaN     NaN     NaN\n",
              "17429        NaN       NaN  1675.90       NaN    NaN     NaN     NaN\n",
              "17430        NaN       NaN  1675.96       NaN    NaN     NaN     NaN\n",
              "17431        NaN       NaN      NaN       NaN    NaN     NaN     NaN\n",
              "\n",
              "[17432 rows x 7 columns]"
            ],
            "text/html": [
              "\n",
              "  <div id=\"df-dc0af53f-6017-4a8a-9e5b-f39571c0325a\">\n",
              "    <div class=\"colab-df-container\">\n",
              "      <div>\n",
              "<style scoped>\n",
              "    .dataframe tbody tr th:only-of-type {\n",
              "        vertical-align: middle;\n",
              "    }\n",
              "\n",
              "    .dataframe tbody tr th {\n",
              "        vertical-align: top;\n",
              "    }\n",
              "\n",
              "    .dataframe thead th {\n",
              "        text-align: right;\n",
              "    }\n",
              "</style>\n",
              "<table border=\"1\" class=\"dataframe\">\n",
              "  <thead>\n",
              "    <tr style=\"text-align: right;\">\n",
              "      <th></th>\n",
              "      <th>SPDR</th>\n",
              "      <th>Crypto</th>\n",
              "      <th>Gold</th>\n",
              "      <th>ETH</th>\n",
              "      <th>T5YIE</th>\n",
              "      <th>T10YIE</th>\n",
              "      <th>T5YIFR</th>\n",
              "    </tr>\n",
              "  </thead>\n",
              "  <tbody>\n",
              "    <tr>\n",
              "      <th>0</th>\n",
              "      <td>44.380001</td>\n",
              "      <td>1000.000</td>\n",
              "      <td>175.00</td>\n",
              "      <td>0.714876</td>\n",
              "      <td>1.300</td>\n",
              "      <td>1.640</td>\n",
              "      <td>1.980</td>\n",
              "    </tr>\n",
              "    <tr>\n",
              "      <th>1</th>\n",
              "      <td>44.779999</td>\n",
              "      <td>973.640</td>\n",
              "      <td>174.00</td>\n",
              "      <td>0.729347</td>\n",
              "      <td>1.280</td>\n",
              "      <td>1.620</td>\n",
              "      <td>1.960</td>\n",
              "    </tr>\n",
              "    <tr>\n",
              "      <th>2</th>\n",
              "      <td>44.865000</td>\n",
              "      <td>1003.075</td>\n",
              "      <td>174.40</td>\n",
              "      <td>0.707703</td>\n",
              "      <td>1.295</td>\n",
              "      <td>1.625</td>\n",
              "      <td>1.955</td>\n",
              "    </tr>\n",
              "    <tr>\n",
              "      <th>3</th>\n",
              "      <td>44.850001</td>\n",
              "      <td>947.280</td>\n",
              "      <td>175.20</td>\n",
              "      <td>1.057670</td>\n",
              "      <td>1.295</td>\n",
              "      <td>1.625</td>\n",
              "      <td>1.955</td>\n",
              "    </tr>\n",
              "    <tr>\n",
              "      <th>4</th>\n",
              "      <td>44.950001</td>\n",
              "      <td>1058.870</td>\n",
              "      <td>173.50</td>\n",
              "      <td>1.237670</td>\n",
              "      <td>1.310</td>\n",
              "      <td>1.630</td>\n",
              "      <td>1.950</td>\n",
              "    </tr>\n",
              "    <tr>\n",
              "      <th>...</th>\n",
              "      <td>...</td>\n",
              "      <td>...</td>\n",
              "      <td>...</td>\n",
              "      <td>...</td>\n",
              "      <td>...</td>\n",
              "      <td>...</td>\n",
              "      <td>...</td>\n",
              "    </tr>\n",
              "    <tr>\n",
              "      <th>17427</th>\n",
              "      <td>NaN</td>\n",
              "      <td>NaN</td>\n",
              "      <td>1675.84</td>\n",
              "      <td>NaN</td>\n",
              "      <td>NaN</td>\n",
              "      <td>NaN</td>\n",
              "      <td>NaN</td>\n",
              "    </tr>\n",
              "    <tr>\n",
              "      <th>17428</th>\n",
              "      <td>NaN</td>\n",
              "      <td>NaN</td>\n",
              "      <td>1675.96</td>\n",
              "      <td>NaN</td>\n",
              "      <td>NaN</td>\n",
              "      <td>NaN</td>\n",
              "      <td>NaN</td>\n",
              "    </tr>\n",
              "    <tr>\n",
              "      <th>17429</th>\n",
              "      <td>NaN</td>\n",
              "      <td>NaN</td>\n",
              "      <td>1675.90</td>\n",
              "      <td>NaN</td>\n",
              "      <td>NaN</td>\n",
              "      <td>NaN</td>\n",
              "      <td>NaN</td>\n",
              "    </tr>\n",
              "    <tr>\n",
              "      <th>17430</th>\n",
              "      <td>NaN</td>\n",
              "      <td>NaN</td>\n",
              "      <td>1675.96</td>\n",
              "      <td>NaN</td>\n",
              "      <td>NaN</td>\n",
              "      <td>NaN</td>\n",
              "      <td>NaN</td>\n",
              "    </tr>\n",
              "    <tr>\n",
              "      <th>17431</th>\n",
              "      <td>NaN</td>\n",
              "      <td>NaN</td>\n",
              "      <td>NaN</td>\n",
              "      <td>NaN</td>\n",
              "      <td>NaN</td>\n",
              "      <td>NaN</td>\n",
              "      <td>NaN</td>\n",
              "    </tr>\n",
              "  </tbody>\n",
              "</table>\n",
              "<p>17432 rows × 7 columns</p>\n",
              "</div>\n",
              "      <button class=\"colab-df-convert\" onclick=\"convertToInteractive('df-dc0af53f-6017-4a8a-9e5b-f39571c0325a')\"\n",
              "              title=\"Convert this dataframe to an interactive table.\"\n",
              "              style=\"display:none;\">\n",
              "        \n",
              "  <svg xmlns=\"http://www.w3.org/2000/svg\" height=\"24px\"viewBox=\"0 0 24 24\"\n",
              "       width=\"24px\">\n",
              "    <path d=\"M0 0h24v24H0V0z\" fill=\"none\"/>\n",
              "    <path d=\"M18.56 5.44l.94 2.06.94-2.06 2.06-.94-2.06-.94-.94-2.06-.94 2.06-2.06.94zm-11 1L8.5 8.5l.94-2.06 2.06-.94-2.06-.94L8.5 2.5l-.94 2.06-2.06.94zm10 10l.94 2.06.94-2.06 2.06-.94-2.06-.94-.94-2.06-.94 2.06-2.06.94z\"/><path d=\"M17.41 7.96l-1.37-1.37c-.4-.4-.92-.59-1.43-.59-.52 0-1.04.2-1.43.59L10.3 9.45l-7.72 7.72c-.78.78-.78 2.05 0 2.83L4 21.41c.39.39.9.59 1.41.59.51 0 1.02-.2 1.41-.59l7.78-7.78 2.81-2.81c.8-.78.8-2.07 0-2.86zM5.41 20L4 18.59l7.72-7.72 1.47 1.35L5.41 20z\"/>\n",
              "  </svg>\n",
              "      </button>\n",
              "      \n",
              "  <style>\n",
              "    .colab-df-container {\n",
              "      display:flex;\n",
              "      flex-wrap:wrap;\n",
              "      gap: 12px;\n",
              "    }\n",
              "\n",
              "    .colab-df-convert {\n",
              "      background-color: #E8F0FE;\n",
              "      border: none;\n",
              "      border-radius: 50%;\n",
              "      cursor: pointer;\n",
              "      display: none;\n",
              "      fill: #1967D2;\n",
              "      height: 32px;\n",
              "      padding: 0 0 0 0;\n",
              "      width: 32px;\n",
              "    }\n",
              "\n",
              "    .colab-df-convert:hover {\n",
              "      background-color: #E2EBFA;\n",
              "      box-shadow: 0px 1px 2px rgba(60, 64, 67, 0.3), 0px 1px 3px 1px rgba(60, 64, 67, 0.15);\n",
              "      fill: #174EA6;\n",
              "    }\n",
              "\n",
              "    [theme=dark] .colab-df-convert {\n",
              "      background-color: #3B4455;\n",
              "      fill: #D2E3FC;\n",
              "    }\n",
              "\n",
              "    [theme=dark] .colab-df-convert:hover {\n",
              "      background-color: #434B5C;\n",
              "      box-shadow: 0px 1px 3px 1px rgba(0, 0, 0, 0.15);\n",
              "      filter: drop-shadow(0px 1px 2px rgba(0, 0, 0, 0.3));\n",
              "      fill: #FFFFFF;\n",
              "    }\n",
              "  </style>\n",
              "\n",
              "      <script>\n",
              "        const buttonEl =\n",
              "          document.querySelector('#df-dc0af53f-6017-4a8a-9e5b-f39571c0325a button.colab-df-convert');\n",
              "        buttonEl.style.display =\n",
              "          google.colab.kernel.accessAllowed ? 'block' : 'none';\n",
              "\n",
              "        async function convertToInteractive(key) {\n",
              "          const element = document.querySelector('#df-dc0af53f-6017-4a8a-9e5b-f39571c0325a');\n",
              "          const dataTable =\n",
              "            await google.colab.kernel.invokeFunction('convertToInteractive',\n",
              "                                                     [key], {});\n",
              "          if (!dataTable) return;\n",
              "\n",
              "          const docLinkHtml = 'Like what you see? Visit the ' +\n",
              "            '<a target=\"_blank\" href=https://colab.research.google.com/notebooks/data_table.ipynb>data table notebook</a>'\n",
              "            + ' to learn more about interactive tables.';\n",
              "          element.innerHTML = '';\n",
              "          dataTable['output_type'] = 'display_data';\n",
              "          await google.colab.output.renderOutput(dataTable, element);\n",
              "          const docLink = document.createElement('div');\n",
              "          docLink.innerHTML = docLinkHtml;\n",
              "          element.appendChild(docLink);\n",
              "        }\n",
              "      </script>\n",
              "    </div>\n",
              "  </div>\n",
              "  "
            ]
          },
          "metadata": {},
          "execution_count": 15
        }
      ]
    },
    {
      "cell_type": "code",
      "source": [
        "df[df[\"SPDR\"].notna()]"
      ],
      "metadata": {
        "colab": {
          "base_uri": "https://localhost:8080/",
          "height": 424
        },
        "id": "ywXElSgte2Uj",
        "outputId": "1d1b48e8-3513-400a-afa4-9f39c0551975"
      },
      "execution_count": null,
      "outputs": [
        {
          "output_type": "execute_result",
          "data": {
            "text/plain": [
              "            SPDR    Crypto   Gold       ETH  T5YIE  T10YIE  T5YIFR\n",
              "0      44.380001  1000.000  175.0  0.714876  1.300   1.640   1.980\n",
              "1      44.779999   973.640  174.0  0.729347  1.280   1.620   1.960\n",
              "2      44.865000  1003.075  174.4  0.707703  1.295   1.625   1.955\n",
              "3      44.850001   947.280  175.2  1.057670  1.295   1.625   1.955\n",
              "4      44.950001  1058.870  173.5  1.237670  1.310   1.630   1.950\n",
              "...          ...       ...    ...       ...    ...     ...     ...\n",
              "6515  155.070007       NaN  340.5       NaN  1.620   1.720   1.820\n",
              "6516  155.789993       NaN  339.0       NaN  1.560   1.640   1.720\n",
              "6517  155.699997       NaN  340.0       NaN  1.550   1.660   1.770\n",
              "6518  153.009995       NaN  337.0       NaN  1.540   1.650   1.760\n",
              "6519  153.009995       NaN  335.8       NaN  1.585   1.690   1.795\n",
              "\n",
              "[6520 rows x 7 columns]"
            ],
            "text/html": [
              "\n",
              "  <div id=\"df-1577ba43-07b6-466c-bbed-974507797854\">\n",
              "    <div class=\"colab-df-container\">\n",
              "      <div>\n",
              "<style scoped>\n",
              "    .dataframe tbody tr th:only-of-type {\n",
              "        vertical-align: middle;\n",
              "    }\n",
              "\n",
              "    .dataframe tbody tr th {\n",
              "        vertical-align: top;\n",
              "    }\n",
              "\n",
              "    .dataframe thead th {\n",
              "        text-align: right;\n",
              "    }\n",
              "</style>\n",
              "<table border=\"1\" class=\"dataframe\">\n",
              "  <thead>\n",
              "    <tr style=\"text-align: right;\">\n",
              "      <th></th>\n",
              "      <th>SPDR</th>\n",
              "      <th>Crypto</th>\n",
              "      <th>Gold</th>\n",
              "      <th>ETH</th>\n",
              "      <th>T5YIE</th>\n",
              "      <th>T10YIE</th>\n",
              "      <th>T5YIFR</th>\n",
              "    </tr>\n",
              "  </thead>\n",
              "  <tbody>\n",
              "    <tr>\n",
              "      <th>0</th>\n",
              "      <td>44.380001</td>\n",
              "      <td>1000.000</td>\n",
              "      <td>175.0</td>\n",
              "      <td>0.714876</td>\n",
              "      <td>1.300</td>\n",
              "      <td>1.640</td>\n",
              "      <td>1.980</td>\n",
              "    </tr>\n",
              "    <tr>\n",
              "      <th>1</th>\n",
              "      <td>44.779999</td>\n",
              "      <td>973.640</td>\n",
              "      <td>174.0</td>\n",
              "      <td>0.729347</td>\n",
              "      <td>1.280</td>\n",
              "      <td>1.620</td>\n",
              "      <td>1.960</td>\n",
              "    </tr>\n",
              "    <tr>\n",
              "      <th>2</th>\n",
              "      <td>44.865000</td>\n",
              "      <td>1003.075</td>\n",
              "      <td>174.4</td>\n",
              "      <td>0.707703</td>\n",
              "      <td>1.295</td>\n",
              "      <td>1.625</td>\n",
              "      <td>1.955</td>\n",
              "    </tr>\n",
              "    <tr>\n",
              "      <th>3</th>\n",
              "      <td>44.850001</td>\n",
              "      <td>947.280</td>\n",
              "      <td>175.2</td>\n",
              "      <td>1.057670</td>\n",
              "      <td>1.295</td>\n",
              "      <td>1.625</td>\n",
              "      <td>1.955</td>\n",
              "    </tr>\n",
              "    <tr>\n",
              "      <th>4</th>\n",
              "      <td>44.950001</td>\n",
              "      <td>1058.870</td>\n",
              "      <td>173.5</td>\n",
              "      <td>1.237670</td>\n",
              "      <td>1.310</td>\n",
              "      <td>1.630</td>\n",
              "      <td>1.950</td>\n",
              "    </tr>\n",
              "    <tr>\n",
              "      <th>...</th>\n",
              "      <td>...</td>\n",
              "      <td>...</td>\n",
              "      <td>...</td>\n",
              "      <td>...</td>\n",
              "      <td>...</td>\n",
              "      <td>...</td>\n",
              "      <td>...</td>\n",
              "    </tr>\n",
              "    <tr>\n",
              "      <th>6515</th>\n",
              "      <td>155.070007</td>\n",
              "      <td>NaN</td>\n",
              "      <td>340.5</td>\n",
              "      <td>NaN</td>\n",
              "      <td>1.620</td>\n",
              "      <td>1.720</td>\n",
              "      <td>1.820</td>\n",
              "    </tr>\n",
              "    <tr>\n",
              "      <th>6516</th>\n",
              "      <td>155.789993</td>\n",
              "      <td>NaN</td>\n",
              "      <td>339.0</td>\n",
              "      <td>NaN</td>\n",
              "      <td>1.560</td>\n",
              "      <td>1.640</td>\n",
              "      <td>1.720</td>\n",
              "    </tr>\n",
              "    <tr>\n",
              "      <th>6517</th>\n",
              "      <td>155.699997</td>\n",
              "      <td>NaN</td>\n",
              "      <td>340.0</td>\n",
              "      <td>NaN</td>\n",
              "      <td>1.550</td>\n",
              "      <td>1.660</td>\n",
              "      <td>1.770</td>\n",
              "    </tr>\n",
              "    <tr>\n",
              "      <th>6518</th>\n",
              "      <td>153.009995</td>\n",
              "      <td>NaN</td>\n",
              "      <td>337.0</td>\n",
              "      <td>NaN</td>\n",
              "      <td>1.540</td>\n",
              "      <td>1.650</td>\n",
              "      <td>1.760</td>\n",
              "    </tr>\n",
              "    <tr>\n",
              "      <th>6519</th>\n",
              "      <td>153.009995</td>\n",
              "      <td>NaN</td>\n",
              "      <td>335.8</td>\n",
              "      <td>NaN</td>\n",
              "      <td>1.585</td>\n",
              "      <td>1.690</td>\n",
              "      <td>1.795</td>\n",
              "    </tr>\n",
              "  </tbody>\n",
              "</table>\n",
              "<p>6520 rows × 7 columns</p>\n",
              "</div>\n",
              "      <button class=\"colab-df-convert\" onclick=\"convertToInteractive('df-1577ba43-07b6-466c-bbed-974507797854')\"\n",
              "              title=\"Convert this dataframe to an interactive table.\"\n",
              "              style=\"display:none;\">\n",
              "        \n",
              "  <svg xmlns=\"http://www.w3.org/2000/svg\" height=\"24px\"viewBox=\"0 0 24 24\"\n",
              "       width=\"24px\">\n",
              "    <path d=\"M0 0h24v24H0V0z\" fill=\"none\"/>\n",
              "    <path d=\"M18.56 5.44l.94 2.06.94-2.06 2.06-.94-2.06-.94-.94-2.06-.94 2.06-2.06.94zm-11 1L8.5 8.5l.94-2.06 2.06-.94-2.06-.94L8.5 2.5l-.94 2.06-2.06.94zm10 10l.94 2.06.94-2.06 2.06-.94-2.06-.94-.94-2.06-.94 2.06-2.06.94z\"/><path d=\"M17.41 7.96l-1.37-1.37c-.4-.4-.92-.59-1.43-.59-.52 0-1.04.2-1.43.59L10.3 9.45l-7.72 7.72c-.78.78-.78 2.05 0 2.83L4 21.41c.39.39.9.59 1.41.59.51 0 1.02-.2 1.41-.59l7.78-7.78 2.81-2.81c.8-.78.8-2.07 0-2.86zM5.41 20L4 18.59l7.72-7.72 1.47 1.35L5.41 20z\"/>\n",
              "  </svg>\n",
              "      </button>\n",
              "      \n",
              "  <style>\n",
              "    .colab-df-container {\n",
              "      display:flex;\n",
              "      flex-wrap:wrap;\n",
              "      gap: 12px;\n",
              "    }\n",
              "\n",
              "    .colab-df-convert {\n",
              "      background-color: #E8F0FE;\n",
              "      border: none;\n",
              "      border-radius: 50%;\n",
              "      cursor: pointer;\n",
              "      display: none;\n",
              "      fill: #1967D2;\n",
              "      height: 32px;\n",
              "      padding: 0 0 0 0;\n",
              "      width: 32px;\n",
              "    }\n",
              "\n",
              "    .colab-df-convert:hover {\n",
              "      background-color: #E2EBFA;\n",
              "      box-shadow: 0px 1px 2px rgba(60, 64, 67, 0.3), 0px 1px 3px 1px rgba(60, 64, 67, 0.15);\n",
              "      fill: #174EA6;\n",
              "    }\n",
              "\n",
              "    [theme=dark] .colab-df-convert {\n",
              "      background-color: #3B4455;\n",
              "      fill: #D2E3FC;\n",
              "    }\n",
              "\n",
              "    [theme=dark] .colab-df-convert:hover {\n",
              "      background-color: #434B5C;\n",
              "      box-shadow: 0px 1px 3px 1px rgba(0, 0, 0, 0.15);\n",
              "      filter: drop-shadow(0px 1px 2px rgba(0, 0, 0, 0.3));\n",
              "      fill: #FFFFFF;\n",
              "    }\n",
              "  </style>\n",
              "\n",
              "      <script>\n",
              "        const buttonEl =\n",
              "          document.querySelector('#df-1577ba43-07b6-466c-bbed-974507797854 button.colab-df-convert');\n",
              "        buttonEl.style.display =\n",
              "          google.colab.kernel.accessAllowed ? 'block' : 'none';\n",
              "\n",
              "        async function convertToInteractive(key) {\n",
              "          const element = document.querySelector('#df-1577ba43-07b6-466c-bbed-974507797854');\n",
              "          const dataTable =\n",
              "            await google.colab.kernel.invokeFunction('convertToInteractive',\n",
              "                                                     [key], {});\n",
              "          if (!dataTable) return;\n",
              "\n",
              "          const docLinkHtml = 'Like what you see? Visit the ' +\n",
              "            '<a target=\"_blank\" href=https://colab.research.google.com/notebooks/data_table.ipynb>data table notebook</a>'\n",
              "            + ' to learn more about interactive tables.';\n",
              "          element.innerHTML = '';\n",
              "          dataTable['output_type'] = 'display_data';\n",
              "          await google.colab.output.renderOutput(dataTable, element);\n",
              "          const docLink = document.createElement('div');\n",
              "          docLink.innerHTML = docLinkHtml;\n",
              "          element.appendChild(docLink);\n",
              "        }\n",
              "      </script>\n",
              "    </div>\n",
              "  </div>\n",
              "  "
            ]
          },
          "metadata": {},
          "execution_count": 18
        }
      ]
    },
    {
      "cell_type": "code",
      "source": [
        "# df=df.fillna(0)"
      ],
      "metadata": {
        "id": "JQNlbNq6d3e5"
      },
      "execution_count": null,
      "outputs": []
    },
    {
      "cell_type": "code",
      "source": [
        "for elem in df.columns: \n",
        "  print(elem)\n",
        "  df_temp=df[df[elem].notna()]\n",
        "  print(adfuller(df_temp[[elem]]))"
      ],
      "metadata": {
        "colab": {
          "base_uri": "https://localhost:8080/"
        },
        "id": "XtSbEWyadtlK",
        "outputId": "57ed5ee9-da6f-427b-a402-55092d7eda4f"
      },
      "execution_count": null,
      "outputs": [
        {
          "output_type": "stream",
          "name": "stdout",
          "text": [
            "SPDR\n",
            "(-1.809490331713382, 0.3757602907561146, 12, 6507, {'1%': -3.4313553606207843, '5%': -2.8619842833301883, '10%': -2.56700648865667}, 19621.273399790276)\n",
            "Crypto\n",
            "(-1.491292404165339, 0.5378143801441124, 20, 1626, {'1%': -3.434378077206262, '5%': -2.8633191630261203, '10%': -2.5677171879165286}, 19522.81976309596)\n",
            "Gold\n",
            "(-0.14533492294441777, 0.944731569645437, 29, 17401, {'1%': -3.430725855693324, '5%': -2.861706113640112, '10%': -2.5668584179890526}, 121310.42664785296)\n",
            "ETH\n",
            "(-1.704227840420839, 0.42893549335985914, 28, 2570, {'1%': -3.432897020834196, '5%': -2.8626652737482425, '10%': -2.5673690245121046}, 28804.2643925627)\n",
            "T5YIE\n",
            "(-3.730866291392355, 0.003699355138905302, 34, 7167, {'1%': -3.4312627450355846, '5%': -2.861943361454266, '10%': -2.5669847051674703}, -25858.856684974016)\n",
            "T10YIE\n",
            "(-3.292756618287906, 0.01520537490782758, 32, 7169, {'1%': -3.431262490307682, '5%': -2.861943248901867, '10%': -2.566984645253999}, -30520.188556692665)\n",
            "T5YIFR\n",
            "(-4.080307006727144, 0.0010437189316698048, 35, 7166, {'1%': -3.4312628724528755, '5%': -2.8619434177540306, '10%': -2.5669847351367503}, -25669.756538953254)\n"
          ]
        }
      ]
    },
    {
      "cell_type": "code",
      "source": [
        "df_c = pd.read_csv('/content/Crypto.csv')\n",
        "adfuller(df_c[['Response ']])"
      ],
      "metadata": {
        "colab": {
          "base_uri": "https://localhost:8080/"
        },
        "id": "en2V80qyyeZM",
        "outputId": "a1ba5f44-8ed6-4440-b286-880dd03593a0"
      },
      "execution_count": null,
      "outputs": [
        {
          "output_type": "execute_result",
          "data": {
            "text/plain": [
              "(-20.779688298236294,\n",
              " 0.0,\n",
              " 2,\n",
              " 1643,\n",
              " {'1%': -3.4343363335985666,\n",
              "  '5%': -2.8633007375690576,\n",
              "  '10%': -2.5677073765535114},\n",
              " -5574.266630754926)"
            ]
          },
          "metadata": {},
          "execution_count": 7
        }
      ]
    },
    {
      "cell_type": "code",
      "source": [
        "df_gold = pd.read_csv('/content/Gold.csv')\n",
        "adfuller(df_gold[['Response ']])"
      ],
      "metadata": {
        "colab": {
          "base_uri": "https://localhost:8080/"
        },
        "id": "t3S4WVu4F3BS",
        "outputId": "4511200c-9a89-4798-8a59-2d4fa2375ad1"
      },
      "execution_count": null,
      "outputs": [
        {
          "output_type": "execute_result",
          "data": {
            "text/plain": [
              "(-27.19395611852404,\n",
              " 0.0,\n",
              " 9,\n",
              " 7190,\n",
              " {'1%': -3.4312598242236394,\n",
              "  '5%': -2.861942070882888,\n",
              "  '10%': -2.5669840181754524},\n",
              " -46586.466739988056)"
            ]
          },
          "metadata": {},
          "execution_count": 8
        }
      ]
    },
    {
      "cell_type": "code",
      "source": [
        "df_e = pd.read_csv('/content/ ETH.csv')\n",
        "adfuller(df_gold[['Response ']])"
      ],
      "metadata": {
        "colab": {
          "base_uri": "https://localhost:8080/"
        },
        "id": "HOHRJz8wF42f",
        "outputId": "89a852af-f0b4-4413-e88c-bf5336b67f75"
      },
      "execution_count": null,
      "outputs": [
        {
          "output_type": "execute_result",
          "data": {
            "text/plain": [
              "(-27.19395611852404,\n",
              " 0.0,\n",
              " 9,\n",
              " 7190,\n",
              " {'1%': -3.4312598242236394,\n",
              "  '5%': -2.861942070882888,\n",
              "  '10%': -2.5669840181754524},\n",
              " -46586.466739988056)"
            ]
          },
          "metadata": {},
          "execution_count": 9
        }
      ]
    },
    {
      "cell_type": "code",
      "source": [
        "inflation=['T5YIE', 'T10YIE', 'T5YIFR']\n",
        "for element in inflation: \n",
        "  result=adfuller(df_c[[element]])\n",
        "  print(f\"Var is {element}. Result is {result}\")"
      ],
      "metadata": {
        "colab": {
          "base_uri": "https://localhost:8080/"
        },
        "id": "PR9G2AugF5xp",
        "outputId": "4a93abdf-fe4b-4ed9-e401-a4c535f5505b"
      },
      "execution_count": null,
      "outputs": [
        {
          "output_type": "stream",
          "name": "stdout",
          "text": [
            "Var is T5YIE. Result is (-10.887712469240169, 1.2477158793999557e-19, 25, 1620, {'1%': -3.4343930197503107, '5%': -2.8633257585414, '10%': -2.567720699969517}, -5959.587134307047)\n",
            "Var is T10YIE. Result is (-10.186159506787385, 6.500457145192401e-18, 25, 1620, {'1%': -3.4343930197503107, '5%': -2.8633257585414, '10%': -2.567720699969517}, -7926.507109912254)\n",
            "Var is T5YIFR. Result is (-9.277083327513706, 1.2803579936942837e-15, 25, 1620, {'1%': -3.4343930197503107, '5%': -2.8633257585414, '10%': -2.567720699969517}, -8256.864975965418)\n"
          ]
        }
      ]
    },
    {
      "cell_type": "markdown",
      "source": [
        "## Linear Regressions\n",
        "*   Used basic linear regression from sklearn. See documentation here: https://scikit-learn.org/stable/modules/generated/sklearn.linear_model.LinearRegression.html\n",
        "\n"
      ],
      "metadata": {
        "id": "ddsSfkQOZV22"
      }
    },
    {
      "cell_type": "code",
      "source": [
        "df_e = pd.read_csv('/content/ ETH.csv')\n",
        "df_SPDR = pd.read_csv('/content/SPDR.csv')\n",
        "df_c = pd.read_csv('/content/Crypto.csv')\n",
        "df_gold = pd.read_csv('/content/Gold.csv')\n"
      ],
      "metadata": {
        "id": "mabTvRVkaRNB"
      },
      "execution_count": 2,
      "outputs": []
    },
    {
      "cell_type": "code",
      "source": [
        "inflation=['T5YIE', 'T10YIE', 'T5YIFR']\n",
        "dataframe=[df_e,df_SPDR, df_c, df_gold]\n",
        "for index,df in enumerate(dataframe): \n",
        "  for element in inflation: \n",
        "    X=np.array(df[element]).reshape(-1, 1)\n",
        "    y=np.array(df['Response ']).reshape(-1, 1)\n",
        "    print(f\"dataframe is {index}, x is {element}\")\n",
        "    reg = LinearRegression().fit(X, y)\n",
        "    print(reg.coef_, reg.intercept_) \n",
        "    print(f\"coefficient of determinination R^2 is {reg.score(X,y)}\")"
      ],
      "metadata": {
        "colab": {
          "base_uri": "https://localhost:8080/"
        },
        "id": "2H8Jrse2ZVNZ",
        "outputId": "c8815f49-7107-463a-d878-955a04902b19"
      },
      "execution_count": 10,
      "outputs": [
        {
          "output_type": "stream",
          "name": "stdout",
          "text": [
            "dataframe is 0, x is T5YIE\n",
            "[[-0.0297971]] [0.00472658]\n",
            "coefficient of determinination R^2 is 0.0003476178728542001\n",
            "dataframe is 0, x is T10YIE\n",
            "[[-0.03960773]] [0.00471348]\n",
            "coefficient of determinination R^2 is 0.0001644839405494647\n",
            "dataframe is 0, x is T5YIFR\n",
            "[[0.02036279]] [0.00469702]\n",
            "coefficient of determinination R^2 is 3.775241249726058e-05\n",
            "dataframe is 1, x is T5YIE\n",
            "[[0.00197629]] [0.0002396]\n",
            "coefficient of determinination R^2 is 0.0008167246072222634\n",
            "dataframe is 1, x is T10YIE\n",
            "[[0.01317369]] [0.0002244]\n",
            "coefficient of determinination R^2 is 0.00450187257391621\n",
            "dataframe is 1, x is T5YIFR\n",
            "[[0.01950029]] [0.00023115]\n",
            "coefficient of determinination R^2 is 0.0026850880852467007\n",
            "dataframe is 2, x is T5YIE\n",
            "[[0.03742579]] [0.00106125]\n",
            "coefficient of determinination R^2 is 0.00150306635420272\n",
            "dataframe is 2, x is T10YIE\n",
            "[[0.10589358]] [0.00107149]\n",
            "coefficient of determinination R^2 is 0.002982000158370468\n",
            "dataframe is 2, x is T5YIFR\n",
            "[[0.08704826]] [0.00107801]\n",
            "coefficient of determinination R^2 is 0.0015394178961031235\n",
            "dataframe is 3, x is T5YIE\n",
            "[[-2.39144017e-05]] [0.00026483]\n",
            "coefficient of determinination R^2 is 1.0370781033941512e-07\n",
            "dataframe is 3, x is T10YIE\n",
            "[[0.00927128]] [0.00025655]\n",
            "coefficient of determinination R^2 is 0.0019448814966723793\n",
            "dataframe is 3, x is T5YIFR\n",
            "[[0.01133547]] [0.00026152]\n",
            "coefficient of determinination R^2 is 0.000817886226465836\n"
          ]
        }
      ]
    },
    {
      "cell_type": "code",
      "source": [
        "\n",
        "plt.scatter(df_e['T5YIE'],df_e['Response '])\n",
        "plt.show()"
      ],
      "metadata": {
        "colab": {
          "base_uri": "https://localhost:8080/",
          "height": 265
        },
        "id": "xnlFwgcqeVS4",
        "outputId": "652fec73-91d9-4fbc-a3e2-baf760960d0b"
      },
      "execution_count": 15,
      "outputs": [
        {
          "output_type": "display_data",
          "data": {
            "text/plain": [
              "<Figure size 432x288 with 1 Axes>"
            ],
            "image/png": "[encoded data removed]"
          },
          "metadata": {
            "needs_background": "light"
          }
        }
      ]
    },
    {
      "cell_type": "code",
      "source": [
        "plt.scatter(df_SPDR['T5YIE'],df_SPDR['Response '])\n",
        "plt.show()"
      ],
      "metadata": {
        "colab": {
          "base_uri": "https://localhost:8080/",
          "height": 265
        },
        "id": "m4OK5Hf7fJ-D",
        "outputId": "f53f6261-18b6-4e1a-dc8b-867958eda554"
      },
      "execution_count": 3,
      "outputs": [
        {
          "output_type": "display_data",
          "data": {
            "text/plain": [
              "<Figure size 432x288 with 1 Axes>"
            ],
            "image/png": "[encoded data removed]"
          },
          "metadata": {
            "needs_background": "light"
          }
        }
      ]
    }
  ]
}